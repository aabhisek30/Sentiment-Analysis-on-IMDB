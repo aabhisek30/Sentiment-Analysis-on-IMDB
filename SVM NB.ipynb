{
 "cells": [
  {
   "cell_type": "code",
   "execution_count": 1,
   "metadata": {},
   "outputs": [],
   "source": [
    "import pandas as pd\n",
    "from sklearn import metrics\n",
    "from sklearn.model_selection import train_test_split\n",
    "from sklearn.svm import SVC\n",
    "from sklearn.feature_extraction.text import TfidfTransformer\n",
    "from sklearn.feature_extraction.text import TfidfVectorizer\n",
    "from sklearn.feature_extraction.text import CountVectorizer\n",
    "from sklearn.naive_bayes import MultinomialNB\n",
    "from sklearn.model_selection import GridSearchCV\n",
    "from sklearn.naive_bayes import BernoulliNB"
   ]
  },
  {
   "cell_type": "code",
   "execution_count": 2,
   "metadata": {
    "colab": {
     "base_uri": "https://localhost:8080/"
    },
    "executionInfo": {
     "elapsed": 3510,
     "status": "ok",
     "timestamp": 1623294057991,
     "user": {
      "displayName": "Abhisek Sharma",
      "photoUrl": "",
      "userId": "01291971815176337637"
     },
     "user_tz": -330
    },
    "id": "HjbInBfYd0aL",
    "outputId": "66af6843-6972-41a9-cbb7-0b39b08555d7"
   },
   "outputs": [],
   "source": [
    "dataset = pd.read_csv(\"preprocessed_dataset.csv\")\n",
    "preprocessed_reviews = dataset[\"review\"]"
   ]
  },
  {
   "cell_type": "markdown",
   "metadata": {},
   "source": [
    "# Text vectorization"
   ]
  },
  {
   "cell_type": "markdown",
   "metadata": {
    "id": "PNgCwwVWfn9b"
   },
   "source": [
    "## Bag of words"
   ]
  },
  {
   "cell_type": "code",
   "execution_count": 8,
   "metadata": {
    "colab": {
     "base_uri": "https://localhost:8080/"
    },
    "executionInfo": {
     "elapsed": 11621,
     "status": "ok",
     "timestamp": 1623294188373,
     "user": {
      "displayName": "Abhisek Sharma",
      "photoUrl": "",
      "userId": "01291971815176337637"
     },
     "user_tz": -330
    },
    "id": "3eu4iRRVfHEI",
    "outputId": "1af9e3fa-7eed-40de-d196-f965b7eb05fa"
   },
   "outputs": [
    {
     "name": "stdout",
     "output_type": "stream",
     "text": [
      "some feature names  ['aa', 'aaa', 'aaaaaaaaaaaahhhhhhhhhhhhhh', 'aaaaaaaargh', 'aaaaaaah', 'aaaaaaahhhhhhggg', 'aaaaagh', 'aaaaah', 'aaaaahhhh', 'aaaaargh']\n",
      "==================================================\n",
      "the type of count vectorizer  <class 'scipy.sparse.csr.csr_matrix'>\n",
      "the shape of out text BOW vectorizer  (50000, 101871)\n",
      "the number of unique words  101871\n"
     ]
    }
   ],
   "source": [
    "count_vect = CountVectorizer() #in scikit-learn\n",
    "count_vect.fit(preprocessed_reviews)\n",
    "print(\"some feature names \", count_vect.get_feature_names()[:10])\n",
    "print('='*50)\n",
    "\n",
    "Bow_vectors = count_vect.transform(preprocessed_reviews)\n",
    "print(\"the type of count vectorizer \",type(Bow_vectors))\n",
    "print(\"the shape of out text BOW vectorizer \",Bow_vectors.get_shape())\n",
    "print(\"the number of unique words \",Bow_vectors.get_shape()[1])"
   ]
  },
  {
   "cell_type": "markdown",
   "metadata": {
    "id": "Y4UoRpuqjpdB"
   },
   "source": [
    "## Tfidf vectorizer"
   ]
  },
  {
   "cell_type": "code",
   "execution_count": 3,
   "metadata": {
    "colab": {
     "base_uri": "https://localhost:8080/"
    },
    "executionInfo": {
     "elapsed": 45878,
     "status": "ok",
     "timestamp": 1623294238355,
     "user": {
      "displayName": "Abhisek Sharma",
      "photoUrl": "",
      "userId": "01291971815176337637"
     },
     "user_tz": -330
    },
    "id": "8BL-2o8cfHGf",
    "outputId": "6b066dc4-fd08-4885-cdab-c0a092cc5809"
   },
   "outputs": [
    {
     "name": "stdout",
     "output_type": "stream",
     "text": [
      "some sample features(unique words in the corpus) ['aa', 'aaa', 'aag', 'aaliyah', 'aames', 'aamir', 'aamir khan', 'aardman', 'aaron', 'aaron carter']\n",
      "==================================================\n",
      "the type of count vectorizer  <class 'scipy.sparse.csr.csr_matrix'>\n",
      "the shape of out text TFIDF vectorizer  (50000, 80839)\n",
      "the number of unique words including both unigrams and bigrams  80839\n"
     ]
    }
   ],
   "source": [
    "tf_idf_vect = TfidfVectorizer(ngram_range=(1,2), min_df=10)\n",
    "tf_idf_vect.fit(preprocessed_reviews)\n",
    "print(\"some sample features(unique words in the corpus)\",tf_idf_vect.get_feature_names()[0:10])\n",
    "print('='*50)\n",
    "\n",
    "final_tf_idf = tf_idf_vect.transform(preprocessed_reviews)\n",
    "print(\"the type of count vectorizer \",type(final_tf_idf))\n",
    "print(\"the shape of out text TFIDF vectorizer \",final_tf_idf.get_shape())\n",
    "print(\"the number of unique words including both unigrams and bigrams \", final_tf_idf.get_shape()[1])"
   ]
  },
  {
   "cell_type": "markdown",
   "metadata": {
    "id": "mR50Vfu2f0mq"
   },
   "source": [
    "# Concept 1 - Naves bayes"
   ]
  },
  {
   "cell_type": "markdown",
   "metadata": {
    "id": "R9obB93Jf-pH"
   },
   "source": [
    "# Algo 1 - MultinomialNB "
   ]
  },
  {
   "cell_type": "markdown",
   "metadata": {
    "id": "AM66wg-FgCdM"
   },
   "source": [
    "### Bag of words"
   ]
  },
  {
   "cell_type": "code",
   "execution_count": 17,
   "metadata": {
    "executionInfo": {
     "elapsed": 8,
     "status": "ok",
     "timestamp": 1623294316275,
     "user": {
      "displayName": "Abhisek Sharma",
      "photoUrl": "",
      "userId": "01291971815176337637"
     },
     "user_tz": -330
    },
    "id": "IYYznCbrgFEf"
   },
   "outputs": [],
   "source": [
    "X_train_br, X_test_br, Y_train_br, Y_test_br = train_test_split(Bow_vectors, dataset['sentiment'], test_size=0.25, random_state=5)"
   ]
  },
  {
   "cell_type": "code",
   "execution_count": 18,
   "metadata": {
    "colab": {
     "base_uri": "https://localhost:8080/"
    },
    "executionInfo": {
     "elapsed": 16,
     "status": "ok",
     "timestamp": 1623294319248,
     "user": {
      "displayName": "Abhisek Sharma",
      "photoUrl": "",
      "userId": "01291971815176337637"
     },
     "user_tz": -330
    },
    "id": "s5TM4Es8gINI",
    "outputId": "7fcd958c-4e6d-4a1b-cabe-bafbf7cd2c76"
   },
   "outputs": [
    {
     "data": {
      "text/plain": [
       "MultinomialNB()"
      ]
     },
     "execution_count": 18,
     "metadata": {},
     "output_type": "execute_result"
    }
   ],
   "source": [
    "MNB_BOW = MultinomialNB()\n",
    "MNB_BOW.fit(X_train_br,Y_train_br)"
   ]
  },
  {
   "cell_type": "code",
   "execution_count": 19,
   "metadata": {
    "executionInfo": {
     "elapsed": 438,
     "status": "ok",
     "timestamp": 1623294322875,
     "user": {
      "displayName": "Abhisek Sharma",
      "photoUrl": "",
      "userId": "01291971815176337637"
     },
     "user_tz": -330
    },
    "id": "TIDXKv5sgKT5"
   },
   "outputs": [],
   "source": [
    "predicted = MNB_BOW.predict(X_test_br)\n",
    "accuracy_score = metrics.accuracy_score(predicted,Y_test_br)"
   ]
  },
  {
   "cell_type": "code",
   "execution_count": 20,
   "metadata": {
    "colab": {
     "base_uri": "https://localhost:8080/"
    },
    "executionInfo": {
     "elapsed": 545,
     "status": "ok",
     "timestamp": 1623294325975,
     "user": {
      "displayName": "Abhisek Sharma",
      "photoUrl": "",
      "userId": "01291971815176337637"
     },
     "user_tz": -330
    },
    "id": "Lnmx0guBgMvC",
    "outputId": "ff64a849-70a8-43f6-f741-863fe2a133ba"
   },
   "outputs": [
    {
     "name": "stdout",
     "output_type": "stream",
     "text": [
      "86.34%\n"
     ]
    }
   ],
   "source": [
    "print(str('{:04.2f}'.format(accuracy_score*100))+'%')"
   ]
  },
  {
   "cell_type": "code",
   "execution_count": 21,
   "metadata": {
    "colab": {
     "base_uri": "https://localhost:8080/",
     "height": 261
    },
    "executionInfo": {
     "elapsed": 9036,
     "status": "ok",
     "timestamp": 1623294337436,
     "user": {
      "displayName": "Abhisek Sharma",
      "photoUrl": "",
      "userId": "01291971815176337637"
     },
     "user_tz": -330
    },
    "id": "NrgsuWQyAY2H",
    "outputId": "dd1b8fde-6466-4f29-8a04-e338a6556b04"
   },
   "outputs": [
    {
     "data": {
      "text/html": [
       "<div>\n",
       "<style scoped>\n",
       "    .dataframe tbody tr th:only-of-type {\n",
       "        vertical-align: middle;\n",
       "    }\n",
       "\n",
       "    .dataframe tbody tr th {\n",
       "        vertical-align: top;\n",
       "    }\n",
       "\n",
       "    .dataframe thead th {\n",
       "        text-align: right;\n",
       "    }\n",
       "</style>\n",
       "<table border=\"1\" class=\"dataframe\">\n",
       "  <thead>\n",
       "    <tr style=\"text-align: right;\">\n",
       "      <th></th>\n",
       "      <th>mean_fit_time</th>\n",
       "      <th>std_fit_time</th>\n",
       "      <th>mean_score_time</th>\n",
       "      <th>std_score_time</th>\n",
       "      <th>param_alpha</th>\n",
       "      <th>params</th>\n",
       "      <th>split0_test_score</th>\n",
       "      <th>split1_test_score</th>\n",
       "      <th>split2_test_score</th>\n",
       "      <th>mean_test_score</th>\n",
       "      <th>std_test_score</th>\n",
       "      <th>rank_test_score</th>\n",
       "      <th>split0_train_score</th>\n",
       "      <th>split1_train_score</th>\n",
       "      <th>split2_train_score</th>\n",
       "      <th>mean_train_score</th>\n",
       "      <th>std_train_score</th>\n",
       "    </tr>\n",
       "  </thead>\n",
       "  <tbody>\n",
       "    <tr>\n",
       "      <th>8</th>\n",
       "      <td>0.162306</td>\n",
       "      <td>0.002113</td>\n",
       "      <td>0.070021</td>\n",
       "      <td>0.000774</td>\n",
       "      <td>0.5</td>\n",
       "      <td>{'alpha': 0.5}</td>\n",
       "      <td>0.85536</td>\n",
       "      <td>0.85984</td>\n",
       "      <td>0.85512</td>\n",
       "      <td>0.856773</td>\n",
       "      <td>0.002171</td>\n",
       "      <td>1</td>\n",
       "      <td>0.92320</td>\n",
       "      <td>0.92128</td>\n",
       "      <td>0.92188</td>\n",
       "      <td>0.922120</td>\n",
       "      <td>0.000802</td>\n",
       "    </tr>\n",
       "    <tr>\n",
       "      <th>9</th>\n",
       "      <td>0.179413</td>\n",
       "      <td>0.003457</td>\n",
       "      <td>0.069601</td>\n",
       "      <td>0.006317</td>\n",
       "      <td>1</td>\n",
       "      <td>{'alpha': 1}</td>\n",
       "      <td>0.85536</td>\n",
       "      <td>0.85944</td>\n",
       "      <td>0.85488</td>\n",
       "      <td>0.856560</td>\n",
       "      <td>0.002046</td>\n",
       "      <td>2</td>\n",
       "      <td>0.91496</td>\n",
       "      <td>0.91464</td>\n",
       "      <td>0.91492</td>\n",
       "      <td>0.914840</td>\n",
       "      <td>0.000142</td>\n",
       "    </tr>\n",
       "    <tr>\n",
       "      <th>10</th>\n",
       "      <td>0.209964</td>\n",
       "      <td>0.042985</td>\n",
       "      <td>0.083813</td>\n",
       "      <td>0.013644</td>\n",
       "      <td>5</td>\n",
       "      <td>{'alpha': 5}</td>\n",
       "      <td>0.85368</td>\n",
       "      <td>0.85784</td>\n",
       "      <td>0.85328</td>\n",
       "      <td>0.854933</td>\n",
       "      <td>0.002062</td>\n",
       "      <td>3</td>\n",
       "      <td>0.89444</td>\n",
       "      <td>0.89440</td>\n",
       "      <td>0.89492</td>\n",
       "      <td>0.894587</td>\n",
       "      <td>0.000236</td>\n",
       "    </tr>\n",
       "    <tr>\n",
       "      <th>7</th>\n",
       "      <td>0.176050</td>\n",
       "      <td>0.015154</td>\n",
       "      <td>0.065146</td>\n",
       "      <td>0.001995</td>\n",
       "      <td>0.1</td>\n",
       "      <td>{'alpha': 0.1}</td>\n",
       "      <td>0.85256</td>\n",
       "      <td>0.85720</td>\n",
       "      <td>0.85432</td>\n",
       "      <td>0.854693</td>\n",
       "      <td>0.001913</td>\n",
       "      <td>4</td>\n",
       "      <td>0.93712</td>\n",
       "      <td>0.93740</td>\n",
       "      <td>0.93624</td>\n",
       "      <td>0.936920</td>\n",
       "      <td>0.000494</td>\n",
       "    </tr>\n",
       "  </tbody>\n",
       "</table>\n",
       "</div>"
      ],
      "text/plain": [
       "    mean_fit_time  std_fit_time  mean_score_time  std_score_time param_alpha  \\\n",
       "8        0.162306      0.002113         0.070021        0.000774         0.5   \n",
       "9        0.179413      0.003457         0.069601        0.006317           1   \n",
       "10       0.209964      0.042985         0.083813        0.013644           5   \n",
       "7        0.176050      0.015154         0.065146        0.001995         0.1   \n",
       "\n",
       "            params  split0_test_score  split1_test_score  split2_test_score  \\\n",
       "8   {'alpha': 0.5}            0.85536            0.85984            0.85512   \n",
       "9     {'alpha': 1}            0.85536            0.85944            0.85488   \n",
       "10    {'alpha': 5}            0.85368            0.85784            0.85328   \n",
       "7   {'alpha': 0.1}            0.85256            0.85720            0.85432   \n",
       "\n",
       "    mean_test_score  std_test_score  rank_test_score  split0_train_score  \\\n",
       "8          0.856773        0.002171                1             0.92320   \n",
       "9          0.856560        0.002046                2             0.91496   \n",
       "10         0.854933        0.002062                3             0.89444   \n",
       "7          0.854693        0.001913                4             0.93712   \n",
       "\n",
       "    split1_train_score  split2_train_score  mean_train_score  std_train_score  \n",
       "8              0.92128             0.92188          0.922120         0.000802  \n",
       "9              0.91464             0.91492          0.914840         0.000142  \n",
       "10             0.89440             0.89492          0.894587         0.000236  \n",
       "7              0.93740             0.93624          0.936920         0.000494  "
      ]
     },
     "execution_count": 21,
     "metadata": {},
     "output_type": "execute_result"
    }
   ],
   "source": [
    "nb = MultinomialNB()\n",
    "parameters = {'alpha':[0.00001,0.0005, 0.0001,0.005,0.001,0.05,0.01,0.1,0.5,1,5,10,50,100]}\n",
    "clf = GridSearchCV(nb, parameters, cv=3, scoring='accuracy',return_train_score=True)\n",
    "clf.fit(X_train_br,Y_train_br)\n",
    "results = pd.DataFrame.from_dict(clf.cv_results_)\n",
    "results.sort_values(by=\"rank_test_score\").head(4)"
   ]
  },
  {
   "cell_type": "markdown",
   "metadata": {
    "id": "r9SoBnp2CY5W"
   },
   "source": [
    "We can say best value for alpha hyperparameter is 0.5"
   ]
  },
  {
   "cell_type": "code",
   "execution_count": 22,
   "metadata": {
    "colab": {
     "base_uri": "https://localhost:8080/"
    },
    "executionInfo": {
     "elapsed": 462,
     "status": "ok",
     "timestamp": 1623294344042,
     "user": {
      "displayName": "Abhisek Sharma",
      "photoUrl": "",
      "userId": "01291971815176337637"
     },
     "user_tz": -330
    },
    "id": "J1B-tqXOCYcd",
    "outputId": "356269ac-c56e-47e0-cf43-899f0cbda5d9"
   },
   "outputs": [
    {
     "name": "stdout",
     "output_type": "stream",
     "text": [
      "86.38%\n"
     ]
    }
   ],
   "source": [
    "MNB_BOW = MultinomialNB(alpha=0.5)\n",
    "MNB_BOW.fit(X_train_br,Y_train_br)\n",
    "predicted = MNB_BOW.predict(X_test_br)\n",
    "accuracy_score = metrics.accuracy_score(predicted,Y_test_br)\n",
    "print(str('{:04.2f}'.format(accuracy_score*100))+'%')"
   ]
  },
  {
   "cell_type": "markdown",
   "metadata": {
    "id": "bdQ7DvS9gPIC"
   },
   "source": [
    "### Tfidf vector"
   ]
  },
  {
   "cell_type": "code",
   "execution_count": 4,
   "metadata": {
    "executionInfo": {
     "elapsed": 424,
     "status": "ok",
     "timestamp": 1623294346832,
     "user": {
      "displayName": "Abhisek Sharma",
      "photoUrl": "",
      "userId": "01291971815176337637"
     },
     "user_tz": -330
    },
    "id": "oyKjtb5XgU0-"
   },
   "outputs": [],
   "source": [
    "X_train_tfidf, X_test_tfidf, Y_train_tfidf, Y_test_tfidf = train_test_split(final_tf_idf, dataset['sentiment'], test_size=0.25, random_state=5)"
   ]
  },
  {
   "cell_type": "code",
   "execution_count": 24,
   "metadata": {
    "colab": {
     "base_uri": "https://localhost:8080/"
    },
    "executionInfo": {
     "elapsed": 461,
     "status": "ok",
     "timestamp": 1623294349580,
     "user": {
      "displayName": "Abhisek Sharma",
      "photoUrl": "",
      "userId": "01291971815176337637"
     },
     "user_tz": -330
    },
    "id": "YvoZFa_sgXTn",
    "outputId": "258a2ac1-2ac3-47f9-cad8-f4bd95c13405"
   },
   "outputs": [
    {
     "data": {
      "text/plain": [
       "MultinomialNB()"
      ]
     },
     "execution_count": 24,
     "metadata": {},
     "output_type": "execute_result"
    }
   ],
   "source": [
    "MNB_TFIDF = MultinomialNB()\n",
    "MNB_TFIDF.fit(X_train_tfidf,Y_train_tfidf)"
   ]
  },
  {
   "cell_type": "code",
   "execution_count": 25,
   "metadata": {
    "executionInfo": {
     "elapsed": 457,
     "status": "ok",
     "timestamp": 1623294352780,
     "user": {
      "displayName": "Abhisek Sharma",
      "photoUrl": "",
      "userId": "01291971815176337637"
     },
     "user_tz": -330
    },
    "id": "5qRyVIU7gZ61"
   },
   "outputs": [],
   "source": [
    "predicted = MNB_TFIDF.predict(X_test_tfidf)\n",
    "accuracy_score = metrics.accuracy_score(predicted,Y_test_tfidf)"
   ]
  },
  {
   "cell_type": "code",
   "execution_count": 26,
   "metadata": {
    "colab": {
     "base_uri": "https://localhost:8080/"
    },
    "executionInfo": {
     "elapsed": 13,
     "status": "ok",
     "timestamp": 1623294354766,
     "user": {
      "displayName": "Abhisek Sharma",
      "photoUrl": "",
      "userId": "01291971815176337637"
     },
     "user_tz": -330
    },
    "id": "pOhNGO_ogcrm",
    "outputId": "9833d3b0-909a-49d2-d9ed-2880adbf7541"
   },
   "outputs": [
    {
     "name": "stdout",
     "output_type": "stream",
     "text": [
      "89.10%\n"
     ]
    }
   ],
   "source": [
    "print(str('{:04.2f}'.format(accuracy_score*100))+'%')"
   ]
  },
  {
   "cell_type": "code",
   "execution_count": 27,
   "metadata": {
    "colab": {
     "base_uri": "https://localhost:8080/",
     "height": 261
    },
    "executionInfo": {
     "elapsed": 9782,
     "status": "ok",
     "timestamp": 1623294367078,
     "user": {
      "displayName": "Abhisek Sharma",
      "photoUrl": "",
      "userId": "01291971815176337637"
     },
     "user_tz": -330
    },
    "id": "frrZ8PDNDEQ_",
    "outputId": "ec5c75c2-43e3-48af-ce63-4fdb960b434b"
   },
   "outputs": [
    {
     "data": {
      "text/html": [
       "<div>\n",
       "<style scoped>\n",
       "    .dataframe tbody tr th:only-of-type {\n",
       "        vertical-align: middle;\n",
       "    }\n",
       "\n",
       "    .dataframe tbody tr th {\n",
       "        vertical-align: top;\n",
       "    }\n",
       "\n",
       "    .dataframe thead th {\n",
       "        text-align: right;\n",
       "    }\n",
       "</style>\n",
       "<table border=\"1\" class=\"dataframe\">\n",
       "  <thead>\n",
       "    <tr style=\"text-align: right;\">\n",
       "      <th></th>\n",
       "      <th>mean_fit_time</th>\n",
       "      <th>std_fit_time</th>\n",
       "      <th>mean_score_time</th>\n",
       "      <th>std_score_time</th>\n",
       "      <th>param_alpha</th>\n",
       "      <th>params</th>\n",
       "      <th>split0_test_score</th>\n",
       "      <th>split1_test_score</th>\n",
       "      <th>split2_test_score</th>\n",
       "      <th>mean_test_score</th>\n",
       "      <th>std_test_score</th>\n",
       "      <th>rank_test_score</th>\n",
       "      <th>split0_train_score</th>\n",
       "      <th>split1_train_score</th>\n",
       "      <th>split2_train_score</th>\n",
       "      <th>mean_train_score</th>\n",
       "      <th>std_train_score</th>\n",
       "    </tr>\n",
       "  </thead>\n",
       "  <tbody>\n",
       "    <tr>\n",
       "      <th>7</th>\n",
       "      <td>0.198195</td>\n",
       "      <td>0.002413</td>\n",
       "      <td>0.062212</td>\n",
       "      <td>0.002013</td>\n",
       "      <td>0.1</td>\n",
       "      <td>{'alpha': 0.1}</td>\n",
       "      <td>0.88368</td>\n",
       "      <td>0.88608</td>\n",
       "      <td>0.88256</td>\n",
       "      <td>0.884107</td>\n",
       "      <td>0.001468</td>\n",
       "      <td>1</td>\n",
       "      <td>0.95424</td>\n",
       "      <td>0.95360</td>\n",
       "      <td>0.95348</td>\n",
       "      <td>0.953773</td>\n",
       "      <td>0.000334</td>\n",
       "    </tr>\n",
       "    <tr>\n",
       "      <th>5</th>\n",
       "      <td>0.205386</td>\n",
       "      <td>0.019352</td>\n",
       "      <td>0.066733</td>\n",
       "      <td>0.004912</td>\n",
       "      <td>0.05</td>\n",
       "      <td>{'alpha': 0.05}</td>\n",
       "      <td>0.88232</td>\n",
       "      <td>0.88568</td>\n",
       "      <td>0.88160</td>\n",
       "      <td>0.883200</td>\n",
       "      <td>0.001778</td>\n",
       "      <td>2</td>\n",
       "      <td>0.95744</td>\n",
       "      <td>0.95696</td>\n",
       "      <td>0.95672</td>\n",
       "      <td>0.957040</td>\n",
       "      <td>0.000299</td>\n",
       "    </tr>\n",
       "    <tr>\n",
       "      <th>8</th>\n",
       "      <td>0.194891</td>\n",
       "      <td>0.021734</td>\n",
       "      <td>0.064944</td>\n",
       "      <td>0.003883</td>\n",
       "      <td>0.5</td>\n",
       "      <td>{'alpha': 0.5}</td>\n",
       "      <td>0.88144</td>\n",
       "      <td>0.88488</td>\n",
       "      <td>0.88288</td>\n",
       "      <td>0.883067</td>\n",
       "      <td>0.001411</td>\n",
       "      <td>3</td>\n",
       "      <td>0.94160</td>\n",
       "      <td>0.94160</td>\n",
       "      <td>0.94112</td>\n",
       "      <td>0.941440</td>\n",
       "      <td>0.000226</td>\n",
       "    </tr>\n",
       "    <tr>\n",
       "      <th>9</th>\n",
       "      <td>0.189951</td>\n",
       "      <td>0.005836</td>\n",
       "      <td>0.064339</td>\n",
       "      <td>0.003978</td>\n",
       "      <td>1</td>\n",
       "      <td>{'alpha': 1}</td>\n",
       "      <td>0.88096</td>\n",
       "      <td>0.88472</td>\n",
       "      <td>0.88296</td>\n",
       "      <td>0.882880</td>\n",
       "      <td>0.001536</td>\n",
       "      <td>4</td>\n",
       "      <td>0.93368</td>\n",
       "      <td>0.93316</td>\n",
       "      <td>0.93400</td>\n",
       "      <td>0.933613</td>\n",
       "      <td>0.000346</td>\n",
       "    </tr>\n",
       "  </tbody>\n",
       "</table>\n",
       "</div>"
      ],
      "text/plain": [
       "   mean_fit_time  std_fit_time  mean_score_time  std_score_time param_alpha  \\\n",
       "7       0.198195      0.002413         0.062212        0.002013         0.1   \n",
       "5       0.205386      0.019352         0.066733        0.004912        0.05   \n",
       "8       0.194891      0.021734         0.064944        0.003883         0.5   \n",
       "9       0.189951      0.005836         0.064339        0.003978           1   \n",
       "\n",
       "            params  split0_test_score  split1_test_score  split2_test_score  \\\n",
       "7   {'alpha': 0.1}            0.88368            0.88608            0.88256   \n",
       "5  {'alpha': 0.05}            0.88232            0.88568            0.88160   \n",
       "8   {'alpha': 0.5}            0.88144            0.88488            0.88288   \n",
       "9     {'alpha': 1}            0.88096            0.88472            0.88296   \n",
       "\n",
       "   mean_test_score  std_test_score  rank_test_score  split0_train_score  \\\n",
       "7         0.884107        0.001468                1             0.95424   \n",
       "5         0.883200        0.001778                2             0.95744   \n",
       "8         0.883067        0.001411                3             0.94160   \n",
       "9         0.882880        0.001536                4             0.93368   \n",
       "\n",
       "   split1_train_score  split2_train_score  mean_train_score  std_train_score  \n",
       "7             0.95360             0.95348          0.953773         0.000334  \n",
       "5             0.95696             0.95672          0.957040         0.000299  \n",
       "8             0.94160             0.94112          0.941440         0.000226  \n",
       "9             0.93316             0.93400          0.933613         0.000346  "
      ]
     },
     "execution_count": 27,
     "metadata": {},
     "output_type": "execute_result"
    }
   ],
   "source": [
    "nb = MultinomialNB()\n",
    "parameters = {'alpha':[0.00001,0.0005, 0.0001,0.005,0.001,0.05,0.01,0.1,0.5,1,5,10,50,100]}\n",
    "clf = GridSearchCV(nb, parameters, cv=3, scoring='accuracy',return_train_score=True)\n",
    "clf.fit(X_train_tfidf,Y_train_tfidf)\n",
    "results = pd.DataFrame.from_dict(clf.cv_results_)\n",
    "results.sort_values(by=\"rank_test_score\").head(4)"
   ]
  },
  {
   "cell_type": "markdown",
   "metadata": {
    "id": "zwwaqttPDW73"
   },
   "source": [
    "We can say best value for alpha hyperparameter is 0.1"
   ]
  },
  {
   "cell_type": "code",
   "execution_count": 28,
   "metadata": {
    "colab": {
     "base_uri": "https://localhost:8080/"
    },
    "executionInfo": {
     "elapsed": 13,
     "status": "ok",
     "timestamp": 1623294371006,
     "user": {
      "displayName": "Abhisek Sharma",
      "photoUrl": "",
      "userId": "01291971815176337637"
     },
     "user_tz": -330
    },
    "id": "nAJhJxQADamq",
    "outputId": "cdf16f11-9f6f-477f-fd33-9b6e0b14e116"
   },
   "outputs": [
    {
     "name": "stdout",
     "output_type": "stream",
     "text": [
      "89.10%\n"
     ]
    }
   ],
   "source": [
    "MNB_TFIDF = MultinomialNB(alpha=0.1)\n",
    "MNB_TFIDF.fit(X_train_tfidf,Y_train_tfidf)\n",
    "predicted = MNB_TFIDF.predict(X_test_tfidf)\n",
    "accuracy_score = metrics.accuracy_score(predicted,Y_test_tfidf)\n",
    "print(str('{:04.2f}'.format(accuracy_score*100))+'%')"
   ]
  },
  {
   "cell_type": "markdown",
   "metadata": {
    "id": "tjVYR9bEg86F"
   },
   "source": [
    "## Algo 2 - BERNOULI ALGORITHM"
   ]
  },
  {
   "cell_type": "markdown",
   "metadata": {},
   "source": [
    "### Bag of words"
   ]
  },
  {
   "cell_type": "code",
   "execution_count": 30,
   "metadata": {
    "colab": {
     "base_uri": "https://localhost:8080/"
    },
    "executionInfo": {
     "elapsed": 707,
     "status": "ok",
     "timestamp": 1623294376996,
     "user": {
      "displayName": "Abhisek Sharma",
      "photoUrl": "",
      "userId": "01291971815176337637"
     },
     "user_tz": -330
    },
    "id": "aKnuCs1yhDKK",
    "outputId": "04ba5442-ce23-487b-b2c2-e850d761870d"
   },
   "outputs": [
    {
     "data": {
      "text/plain": [
       "BernoulliNB()"
      ]
     },
     "execution_count": 30,
     "metadata": {},
     "output_type": "execute_result"
    }
   ],
   "source": [
    "BER_BOW = BernoulliNB()\n",
    "BER_BOW.fit(X_train_br, Y_train_br)"
   ]
  },
  {
   "cell_type": "code",
   "execution_count": 31,
   "metadata": {
    "colab": {
     "base_uri": "https://localhost:8080/"
    },
    "executionInfo": {
     "elapsed": 15,
     "status": "ok",
     "timestamp": 1623294379772,
     "user": {
      "displayName": "Abhisek Sharma",
      "photoUrl": "",
      "userId": "01291971815176337637"
     },
     "user_tz": -330
    },
    "id": "2Rb9UspHhFCi",
    "outputId": "cd2cf341-9f51-4f6c-e868-f5aa40ae2a68"
   },
   "outputs": [
    {
     "name": "stdout",
     "output_type": "stream",
     "text": [
      "85.78%\n"
     ]
    }
   ],
   "source": [
    "accuracy_score = metrics.accuracy_score(BER_BOW.predict(X_test_br),Y_test_br)\n",
    "print(str('{:4.2f}'.format(accuracy_score*100))+'%')"
   ]
  },
  {
   "cell_type": "code",
   "execution_count": 32,
   "metadata": {
    "colab": {
     "base_uri": "https://localhost:8080/",
     "height": 261
    },
    "executionInfo": {
     "elapsed": 12352,
     "status": "ok",
     "timestamp": 1623294396015,
     "user": {
      "displayName": "Abhisek Sharma",
      "photoUrl": "",
      "userId": "01291971815176337637"
     },
     "user_tz": -330
    },
    "id": "Gj_mtqQvEEUE",
    "outputId": "bd6587d8-2711-4f48-9c3d-4630ca82ab2c"
   },
   "outputs": [
    {
     "data": {
      "text/html": [
       "<div>\n",
       "<style scoped>\n",
       "    .dataframe tbody tr th:only-of-type {\n",
       "        vertical-align: middle;\n",
       "    }\n",
       "\n",
       "    .dataframe tbody tr th {\n",
       "        vertical-align: top;\n",
       "    }\n",
       "\n",
       "    .dataframe thead th {\n",
       "        text-align: right;\n",
       "    }\n",
       "</style>\n",
       "<table border=\"1\" class=\"dataframe\">\n",
       "  <thead>\n",
       "    <tr style=\"text-align: right;\">\n",
       "      <th></th>\n",
       "      <th>mean_fit_time</th>\n",
       "      <th>std_fit_time</th>\n",
       "      <th>mean_score_time</th>\n",
       "      <th>std_score_time</th>\n",
       "      <th>param_alpha</th>\n",
       "      <th>params</th>\n",
       "      <th>split0_test_score</th>\n",
       "      <th>split1_test_score</th>\n",
       "      <th>split2_test_score</th>\n",
       "      <th>mean_test_score</th>\n",
       "      <th>std_test_score</th>\n",
       "      <th>rank_test_score</th>\n",
       "      <th>split0_train_score</th>\n",
       "      <th>split1_train_score</th>\n",
       "      <th>split2_train_score</th>\n",
       "      <th>mean_train_score</th>\n",
       "      <th>std_train_score</th>\n",
       "    </tr>\n",
       "  </thead>\n",
       "  <tbody>\n",
       "    <tr>\n",
       "      <th>8</th>\n",
       "      <td>0.306204</td>\n",
       "      <td>0.106303</td>\n",
       "      <td>0.132910</td>\n",
       "      <td>0.026773</td>\n",
       "      <td>0.5</td>\n",
       "      <td>{'alpha': 0.5}</td>\n",
       "      <td>0.84872</td>\n",
       "      <td>0.85760</td>\n",
       "      <td>0.84952</td>\n",
       "      <td>0.851947</td>\n",
       "      <td>0.004011</td>\n",
       "      <td>1</td>\n",
       "      <td>0.92248</td>\n",
       "      <td>0.92084</td>\n",
       "      <td>0.91936</td>\n",
       "      <td>0.920893</td>\n",
       "      <td>0.001274</td>\n",
       "    </tr>\n",
       "    <tr>\n",
       "      <th>9</th>\n",
       "      <td>0.237554</td>\n",
       "      <td>0.019400</td>\n",
       "      <td>0.116294</td>\n",
       "      <td>0.009524</td>\n",
       "      <td>1</td>\n",
       "      <td>{'alpha': 1}</td>\n",
       "      <td>0.84928</td>\n",
       "      <td>0.85656</td>\n",
       "      <td>0.84792</td>\n",
       "      <td>0.851253</td>\n",
       "      <td>0.003793</td>\n",
       "      <td>2</td>\n",
       "      <td>0.91328</td>\n",
       "      <td>0.91180</td>\n",
       "      <td>0.91012</td>\n",
       "      <td>0.911733</td>\n",
       "      <td>0.001291</td>\n",
       "    </tr>\n",
       "    <tr>\n",
       "      <th>7</th>\n",
       "      <td>0.325969</td>\n",
       "      <td>0.049943</td>\n",
       "      <td>0.196370</td>\n",
       "      <td>0.030260</td>\n",
       "      <td>0.1</td>\n",
       "      <td>{'alpha': 0.1}</td>\n",
       "      <td>0.84776</td>\n",
       "      <td>0.85424</td>\n",
       "      <td>0.84936</td>\n",
       "      <td>0.850453</td>\n",
       "      <td>0.002756</td>\n",
       "      <td>3</td>\n",
       "      <td>0.93932</td>\n",
       "      <td>0.93908</td>\n",
       "      <td>0.93656</td>\n",
       "      <td>0.938320</td>\n",
       "      <td>0.001248</td>\n",
       "    </tr>\n",
       "    <tr>\n",
       "      <th>5</th>\n",
       "      <td>0.208242</td>\n",
       "      <td>0.025840</td>\n",
       "      <td>0.103955</td>\n",
       "      <td>0.013311</td>\n",
       "      <td>0.05</td>\n",
       "      <td>{'alpha': 0.05}</td>\n",
       "      <td>0.84648</td>\n",
       "      <td>0.85216</td>\n",
       "      <td>0.84760</td>\n",
       "      <td>0.848747</td>\n",
       "      <td>0.002457</td>\n",
       "      <td>4</td>\n",
       "      <td>0.94392</td>\n",
       "      <td>0.94444</td>\n",
       "      <td>0.94176</td>\n",
       "      <td>0.943373</td>\n",
       "      <td>0.001160</td>\n",
       "    </tr>\n",
       "  </tbody>\n",
       "</table>\n",
       "</div>"
      ],
      "text/plain": [
       "   mean_fit_time  std_fit_time  mean_score_time  std_score_time param_alpha  \\\n",
       "8       0.306204      0.106303         0.132910        0.026773         0.5   \n",
       "9       0.237554      0.019400         0.116294        0.009524           1   \n",
       "7       0.325969      0.049943         0.196370        0.030260         0.1   \n",
       "5       0.208242      0.025840         0.103955        0.013311        0.05   \n",
       "\n",
       "            params  split0_test_score  split1_test_score  split2_test_score  \\\n",
       "8   {'alpha': 0.5}            0.84872            0.85760            0.84952   \n",
       "9     {'alpha': 1}            0.84928            0.85656            0.84792   \n",
       "7   {'alpha': 0.1}            0.84776            0.85424            0.84936   \n",
       "5  {'alpha': 0.05}            0.84648            0.85216            0.84760   \n",
       "\n",
       "   mean_test_score  std_test_score  rank_test_score  split0_train_score  \\\n",
       "8         0.851947        0.004011                1             0.92248   \n",
       "9         0.851253        0.003793                2             0.91328   \n",
       "7         0.850453        0.002756                3             0.93932   \n",
       "5         0.848747        0.002457                4             0.94392   \n",
       "\n",
       "   split1_train_score  split2_train_score  mean_train_score  std_train_score  \n",
       "8             0.92084             0.91936          0.920893         0.001274  \n",
       "9             0.91180             0.91012          0.911733         0.001291  \n",
       "7             0.93908             0.93656          0.938320         0.001248  \n",
       "5             0.94444             0.94176          0.943373         0.001160  "
      ]
     },
     "execution_count": 32,
     "metadata": {},
     "output_type": "execute_result"
    }
   ],
   "source": [
    "nb = BernoulliNB()\n",
    "parameters = {'alpha':[0.00001,0.0005, 0.0001,0.005,0.001,0.05,0.01,0.1,0.5,1,5,10,50,100]}\n",
    "clf = GridSearchCV(nb, parameters, cv=3, scoring='accuracy',return_train_score=True)\n",
    "clf.fit(X_train_br,Y_train_br)\n",
    "results = pd.DataFrame.from_dict(clf.cv_results_)\n",
    "results.sort_values(by=\"rank_test_score\").head(4)"
   ]
  },
  {
   "cell_type": "code",
   "execution_count": 33,
   "metadata": {
    "colab": {
     "base_uri": "https://localhost:8080/"
    },
    "executionInfo": {
     "elapsed": 517,
     "status": "ok",
     "timestamp": 1623294399638,
     "user": {
      "displayName": "Abhisek Sharma",
      "photoUrl": "",
      "userId": "01291971815176337637"
     },
     "user_tz": -330
    },
    "id": "uajmTPffEjvp",
    "outputId": "b60f6e5e-c786-4c82-bf91-06b6b4c5703a"
   },
   "outputs": [
    {
     "name": "stdout",
     "output_type": "stream",
     "text": [
      "85.68%\n"
     ]
    }
   ],
   "source": [
    "BN_BOW = BernoulliNB(alpha=0.5)\n",
    "BN_BOW.fit(X_train_br,Y_train_br)\n",
    "predicted = BN_BOW.predict(X_test_br)\n",
    "accuracy_score = metrics.accuracy_score(predicted,Y_test_br)\n",
    "print(str('{:04.2f}'.format(accuracy_score*100))+'%')"
   ]
  },
  {
   "cell_type": "markdown",
   "metadata": {
    "id": "uWDVlarehILi"
   },
   "source": [
    "### Tfidf vector"
   ]
  },
  {
   "cell_type": "code",
   "execution_count": 34,
   "metadata": {
    "executionInfo": {
     "elapsed": 532,
     "status": "ok",
     "timestamp": 1623294403307,
     "user": {
      "displayName": "Abhisek Sharma",
      "photoUrl": "",
      "userId": "01291971815176337637"
     },
     "user_tz": -330
    },
    "id": "uHCUSBRIhKui"
   },
   "outputs": [],
   "source": [
    "X_train, X_test, Y_train, Y_test = train_test_split(final_tf_idf, dataset['sentiment'], test_size=0.25, random_state=5)"
   ]
  },
  {
   "cell_type": "code",
   "execution_count": 35,
   "metadata": {
    "colab": {
     "base_uri": "https://localhost:8080/"
    },
    "executionInfo": {
     "elapsed": 14,
     "status": "ok",
     "timestamp": 1623294406326,
     "user": {
      "displayName": "Abhisek Sharma",
      "photoUrl": "",
      "userId": "01291971815176337637"
     },
     "user_tz": -330
    },
    "id": "6C2GBP84hNKh",
    "outputId": "6a99f707-1974-4c8f-cb04-cd3af4ae3bfc"
   },
   "outputs": [
    {
     "data": {
      "text/plain": [
       "BernoulliNB()"
      ]
     },
     "execution_count": 35,
     "metadata": {},
     "output_type": "execute_result"
    }
   ],
   "source": [
    "BER_tfidf = BernoulliNB()\n",
    "BER_tfidf.fit(X_train, Y_train)"
   ]
  },
  {
   "cell_type": "code",
   "execution_count": 36,
   "metadata": {
    "colab": {
     "base_uri": "https://localhost:8080/"
    },
    "executionInfo": {
     "elapsed": 460,
     "status": "ok",
     "timestamp": 1623294410100,
     "user": {
      "displayName": "Abhisek Sharma",
      "photoUrl": "",
      "userId": "01291971815176337637"
     },
     "user_tz": -330
    },
    "id": "HjLjZIGThPLc",
    "outputId": "356d277d-071d-4f00-af3b-4d3907f80cdd"
   },
   "outputs": [
    {
     "name": "stdout",
     "output_type": "stream",
     "text": [
      "88.62%\n"
     ]
    }
   ],
   "source": [
    "accuracy_score = metrics.accuracy_score(BER_tfidf.predict(X_test),Y_test)\n",
    "print(str('{:4.2f}'.format(accuracy_score*100))+'%')"
   ]
  },
  {
   "cell_type": "code",
   "execution_count": 37,
   "metadata": {
    "colab": {
     "base_uri": "https://localhost:8080/",
     "height": 261
    },
    "executionInfo": {
     "elapsed": 13576,
     "status": "ok",
     "timestamp": 1623294426462,
     "user": {
      "displayName": "Abhisek Sharma",
      "photoUrl": "",
      "userId": "01291971815176337637"
     },
     "user_tz": -330
    },
    "id": "ZJlKzPq2FLMI",
    "outputId": "974c5fa6-8ac9-4eba-b8ba-35bce8d99e71"
   },
   "outputs": [
    {
     "data": {
      "text/html": [
       "<div>\n",
       "<style scoped>\n",
       "    .dataframe tbody tr th:only-of-type {\n",
       "        vertical-align: middle;\n",
       "    }\n",
       "\n",
       "    .dataframe tbody tr th {\n",
       "        vertical-align: top;\n",
       "    }\n",
       "\n",
       "    .dataframe thead th {\n",
       "        text-align: right;\n",
       "    }\n",
       "</style>\n",
       "<table border=\"1\" class=\"dataframe\">\n",
       "  <thead>\n",
       "    <tr style=\"text-align: right;\">\n",
       "      <th></th>\n",
       "      <th>mean_fit_time</th>\n",
       "      <th>std_fit_time</th>\n",
       "      <th>mean_score_time</th>\n",
       "      <th>std_score_time</th>\n",
       "      <th>param_alpha</th>\n",
       "      <th>params</th>\n",
       "      <th>split0_test_score</th>\n",
       "      <th>split1_test_score</th>\n",
       "      <th>split2_test_score</th>\n",
       "      <th>mean_test_score</th>\n",
       "      <th>std_test_score</th>\n",
       "      <th>rank_test_score</th>\n",
       "      <th>split0_train_score</th>\n",
       "      <th>split1_train_score</th>\n",
       "      <th>split2_train_score</th>\n",
       "      <th>mean_train_score</th>\n",
       "      <th>std_train_score</th>\n",
       "    </tr>\n",
       "  </thead>\n",
       "  <tbody>\n",
       "    <tr>\n",
       "      <th>8</th>\n",
       "      <td>0.372793</td>\n",
       "      <td>0.033801</td>\n",
       "      <td>0.158162</td>\n",
       "      <td>0.027643</td>\n",
       "      <td>0.5</td>\n",
       "      <td>{'alpha': 0.5}</td>\n",
       "      <td>0.87992</td>\n",
       "      <td>0.88472</td>\n",
       "      <td>0.88104</td>\n",
       "      <td>0.881893</td>\n",
       "      <td>0.002050</td>\n",
       "      <td>1</td>\n",
       "      <td>0.93928</td>\n",
       "      <td>0.93848</td>\n",
       "      <td>0.93844</td>\n",
       "      <td>0.938733</td>\n",
       "      <td>0.000387</td>\n",
       "    </tr>\n",
       "    <tr>\n",
       "      <th>9</th>\n",
       "      <td>0.364385</td>\n",
       "      <td>0.055367</td>\n",
       "      <td>0.168409</td>\n",
       "      <td>0.081162</td>\n",
       "      <td>1</td>\n",
       "      <td>{'alpha': 1}</td>\n",
       "      <td>0.87856</td>\n",
       "      <td>0.88408</td>\n",
       "      <td>0.88096</td>\n",
       "      <td>0.881200</td>\n",
       "      <td>0.002260</td>\n",
       "      <td>2</td>\n",
       "      <td>0.93588</td>\n",
       "      <td>0.93436</td>\n",
       "      <td>0.93376</td>\n",
       "      <td>0.934667</td>\n",
       "      <td>0.000892</td>\n",
       "    </tr>\n",
       "    <tr>\n",
       "      <th>7</th>\n",
       "      <td>0.283094</td>\n",
       "      <td>0.019319</td>\n",
       "      <td>0.163249</td>\n",
       "      <td>0.041871</td>\n",
       "      <td>0.1</td>\n",
       "      <td>{'alpha': 0.1}</td>\n",
       "      <td>0.87832</td>\n",
       "      <td>0.88376</td>\n",
       "      <td>0.88088</td>\n",
       "      <td>0.880987</td>\n",
       "      <td>0.002222</td>\n",
       "      <td>3</td>\n",
       "      <td>0.94540</td>\n",
       "      <td>0.94484</td>\n",
       "      <td>0.94496</td>\n",
       "      <td>0.945067</td>\n",
       "      <td>0.000241</td>\n",
       "    </tr>\n",
       "    <tr>\n",
       "      <th>5</th>\n",
       "      <td>0.337699</td>\n",
       "      <td>0.015751</td>\n",
       "      <td>0.124636</td>\n",
       "      <td>0.011726</td>\n",
       "      <td>0.05</td>\n",
       "      <td>{'alpha': 0.05}</td>\n",
       "      <td>0.87768</td>\n",
       "      <td>0.88304</td>\n",
       "      <td>0.87976</td>\n",
       "      <td>0.880160</td>\n",
       "      <td>0.002206</td>\n",
       "      <td>4</td>\n",
       "      <td>0.94664</td>\n",
       "      <td>0.94644</td>\n",
       "      <td>0.94696</td>\n",
       "      <td>0.946680</td>\n",
       "      <td>0.000214</td>\n",
       "    </tr>\n",
       "  </tbody>\n",
       "</table>\n",
       "</div>"
      ],
      "text/plain": [
       "   mean_fit_time  std_fit_time  mean_score_time  std_score_time param_alpha  \\\n",
       "8       0.372793      0.033801         0.158162        0.027643         0.5   \n",
       "9       0.364385      0.055367         0.168409        0.081162           1   \n",
       "7       0.283094      0.019319         0.163249        0.041871         0.1   \n",
       "5       0.337699      0.015751         0.124636        0.011726        0.05   \n",
       "\n",
       "            params  split0_test_score  split1_test_score  split2_test_score  \\\n",
       "8   {'alpha': 0.5}            0.87992            0.88472            0.88104   \n",
       "9     {'alpha': 1}            0.87856            0.88408            0.88096   \n",
       "7   {'alpha': 0.1}            0.87832            0.88376            0.88088   \n",
       "5  {'alpha': 0.05}            0.87768            0.88304            0.87976   \n",
       "\n",
       "   mean_test_score  std_test_score  rank_test_score  split0_train_score  \\\n",
       "8         0.881893        0.002050                1             0.93928   \n",
       "9         0.881200        0.002260                2             0.93588   \n",
       "7         0.880987        0.002222                3             0.94540   \n",
       "5         0.880160        0.002206                4             0.94664   \n",
       "\n",
       "   split1_train_score  split2_train_score  mean_train_score  std_train_score  \n",
       "8             0.93848             0.93844          0.938733         0.000387  \n",
       "9             0.93436             0.93376          0.934667         0.000892  \n",
       "7             0.94484             0.94496          0.945067         0.000241  \n",
       "5             0.94644             0.94696          0.946680         0.000214  "
      ]
     },
     "execution_count": 37,
     "metadata": {},
     "output_type": "execute_result"
    }
   ],
   "source": [
    "nb =  BernoulliNB()\n",
    "parameters = {'alpha':[0.00001,0.0005, 0.0001,0.005,0.001,0.05,0.01,0.1,0.5,1,5,10,50,100]}\n",
    "clf = GridSearchCV(nb, parameters, cv=3, scoring='accuracy',return_train_score=True)\n",
    "clf.fit(X_train_tfidf,Y_train_tfidf)\n",
    "results = pd.DataFrame.from_dict(clf.cv_results_)\n",
    "results.sort_values(by=\"rank_test_score\").head(4)"
   ]
  },
  {
   "cell_type": "code",
   "execution_count": 38,
   "metadata": {
    "colab": {
     "base_uri": "https://localhost:8080/"
    },
    "executionInfo": {
     "elapsed": 24,
     "status": "ok",
     "timestamp": 1623253539772,
     "user": {
      "displayName": "Abhisek Sharma",
      "photoUrl": "",
      "userId": "01291971815176337637"
     },
     "user_tz": -330
    },
    "id": "vXTWrVbLEyQG",
    "outputId": "d08e2934-4e65-4b4c-95c0-cccde7d29795"
   },
   "outputs": [
    {
     "name": "stdout",
     "output_type": "stream",
     "text": [
      "88.62%\n"
     ]
    }
   ],
   "source": [
    "BN_TFIDF =  BernoulliNB(alpha=0.5)\n",
    "BN_TFIDF.fit(X_train_tfidf,Y_train_tfidf)\n",
    "predicted = BN_TFIDF.predict(X_test_tfidf)\n",
    "accuracy_score = metrics.accuracy_score(predicted,Y_test_tfidf)\n",
    "print(str('{:04.2f}'.format(accuracy_score*100))+'%')"
   ]
  },
  {
   "cell_type": "markdown",
   "metadata": {
    "id": "cUbib1SMhSLc"
   },
   "source": [
    "# Concept 2 - Support Vector machine(Linear SVM)"
   ]
  },
  {
   "cell_type": "markdown",
   "metadata": {
    "id": "QyPQBaqLhdMA"
   },
   "source": [
    "### Bag of words"
   ]
  },
  {
   "cell_type": "code",
   "execution_count": 40,
   "metadata": {
    "id": "OdY7MRZuhg57"
   },
   "outputs": [
    {
     "data": {
      "text/plain": [
       "SVC(random_state=0)"
      ]
     },
     "execution_count": 40,
     "metadata": {},
     "output_type": "execute_result"
    }
   ],
   "source": [
    "SVM_br = SVC(random_state=0)\n",
    "SVM_br.fit(X_train_br, Y_train_br)"
   ]
  },
  {
   "cell_type": "code",
   "execution_count": 41,
   "metadata": {
    "colab": {
     "background_save": true
    },
    "id": "E2peipbNOzDg",
    "outputId": "47e76433-0cca-4fd4-bb58-31dde01305df"
   },
   "outputs": [
    {
     "name": "stdout",
     "output_type": "stream",
     "text": [
      "88.28%\n"
     ]
    }
   ],
   "source": [
    "predicted = SVM_br.predict(X_test_br)\n",
    "accuracy_score = metrics.accuracy_score(predicted,Y_test_br)\n",
    "print(str('{:04.2f}'.format(accuracy_score*100))+'%')"
   ]
  },
  {
   "cell_type": "code",
   "execution_count": 18,
   "metadata": {
    "id": "WmYpLMGPQh34"
   },
   "outputs": [
    {
     "data": {
      "text/html": [
       "<div>\n",
       "<style scoped>\n",
       "    .dataframe tbody tr th:only-of-type {\n",
       "        vertical-align: middle;\n",
       "    }\n",
       "\n",
       "    .dataframe tbody tr th {\n",
       "        vertical-align: top;\n",
       "    }\n",
       "\n",
       "    .dataframe thead th {\n",
       "        text-align: right;\n",
       "    }\n",
       "</style>\n",
       "<table border=\"1\" class=\"dataframe\">\n",
       "  <thead>\n",
       "    <tr style=\"text-align: right;\">\n",
       "      <th></th>\n",
       "      <th>mean_fit_time</th>\n",
       "      <th>std_fit_time</th>\n",
       "      <th>mean_score_time</th>\n",
       "      <th>std_score_time</th>\n",
       "      <th>param_C</th>\n",
       "      <th>params</th>\n",
       "      <th>split0_test_score</th>\n",
       "      <th>split1_test_score</th>\n",
       "      <th>split2_test_score</th>\n",
       "      <th>mean_test_score</th>\n",
       "      <th>std_test_score</th>\n",
       "      <th>rank_test_score</th>\n",
       "      <th>split0_train_score</th>\n",
       "      <th>split1_train_score</th>\n",
       "      <th>split2_train_score</th>\n",
       "      <th>mean_train_score</th>\n",
       "      <th>std_train_score</th>\n",
       "    </tr>\n",
       "  </thead>\n",
       "  <tbody>\n",
       "    <tr>\n",
       "      <th>2</th>\n",
       "      <td>5091.270832</td>\n",
       "      <td>3587.157068</td>\n",
       "      <td>303.814949</td>\n",
       "      <td>22.576396</td>\n",
       "      <td>10</td>\n",
       "      <td>{'C': 10}</td>\n",
       "      <td>0.87536</td>\n",
       "      <td>0.87888</td>\n",
       "      <td>0.87968</td>\n",
       "      <td>0.877973</td>\n",
       "      <td>0.001877</td>\n",
       "      <td>1</td>\n",
       "      <td>0.99908</td>\n",
       "      <td>0.99920</td>\n",
       "      <td>0.99936</td>\n",
       "      <td>0.999213</td>\n",
       "      <td>0.000115</td>\n",
       "    </tr>\n",
       "    <tr>\n",
       "      <th>1</th>\n",
       "      <td>1721.834738</td>\n",
       "      <td>171.075880</td>\n",
       "      <td>299.660156</td>\n",
       "      <td>31.879121</td>\n",
       "      <td>1</td>\n",
       "      <td>{'C': 1}</td>\n",
       "      <td>0.87296</td>\n",
       "      <td>0.87496</td>\n",
       "      <td>0.87664</td>\n",
       "      <td>0.874853</td>\n",
       "      <td>0.001504</td>\n",
       "      <td>2</td>\n",
       "      <td>0.96280</td>\n",
       "      <td>0.96240</td>\n",
       "      <td>0.96260</td>\n",
       "      <td>0.962600</td>\n",
       "      <td>0.000163</td>\n",
       "    </tr>\n",
       "    <tr>\n",
       "      <th>0</th>\n",
       "      <td>779.521436</td>\n",
       "      <td>24.487984</td>\n",
       "      <td>397.687937</td>\n",
       "      <td>44.327019</td>\n",
       "      <td>0.1</td>\n",
       "      <td>{'C': 0.1}</td>\n",
       "      <td>0.79952</td>\n",
       "      <td>0.80600</td>\n",
       "      <td>0.80576</td>\n",
       "      <td>0.803760</td>\n",
       "      <td>0.003000</td>\n",
       "      <td>3</td>\n",
       "      <td>0.82880</td>\n",
       "      <td>0.82592</td>\n",
       "      <td>0.82460</td>\n",
       "      <td>0.826440</td>\n",
       "      <td>0.001754</td>\n",
       "    </tr>\n",
       "  </tbody>\n",
       "</table>\n",
       "</div>"
      ],
      "text/plain": [
       "   mean_fit_time  std_fit_time  mean_score_time  std_score_time param_C  \\\n",
       "2    5091.270832   3587.157068       303.814949       22.576396      10   \n",
       "1    1721.834738    171.075880       299.660156       31.879121       1   \n",
       "0     779.521436     24.487984       397.687937       44.327019     0.1   \n",
       "\n",
       "       params  split0_test_score  split1_test_score  split2_test_score  \\\n",
       "2   {'C': 10}            0.87536            0.87888            0.87968   \n",
       "1    {'C': 1}            0.87296            0.87496            0.87664   \n",
       "0  {'C': 0.1}            0.79952            0.80600            0.80576   \n",
       "\n",
       "   mean_test_score  std_test_score  rank_test_score  split0_train_score  \\\n",
       "2         0.877973        0.001877                1             0.99908   \n",
       "1         0.874853        0.001504                2             0.96280   \n",
       "0         0.803760        0.003000                3             0.82880   \n",
       "\n",
       "   split1_train_score  split2_train_score  mean_train_score  std_train_score  \n",
       "2             0.99920             0.99936          0.999213         0.000115  \n",
       "1             0.96240             0.96260          0.962600         0.000163  \n",
       "0             0.82592             0.82460          0.826440         0.001754  "
      ]
     },
     "execution_count": 18,
     "metadata": {},
     "output_type": "execute_result"
    }
   ],
   "source": [
    "nb = SVC()\n",
    "param_grid = {'C': [0.1, 1, 10]} \n",
    "clf = GridSearchCV(nb, param_grid, cv=3, scoring='accuracy',return_train_score=True)\n",
    "clf.fit(X_train_br,Y_train_br)\n",
    "results = pd.DataFrame.from_dict(clf.cv_results_)\n",
    "results.sort_values(by=\"rank_test_score\").head(4)"
   ]
  },
  {
   "cell_type": "code",
   "execution_count": 19,
   "metadata": {
    "id": "DShTn4GiQ7b8"
   },
   "outputs": [
    {
     "name": "stdout",
     "output_type": "stream",
     "text": [
      "88.60%\n"
     ]
    }
   ],
   "source": [
    "SVM_BOW = SVC(C=10)\n",
    "SVM_BOW.fit(X_train_br,Y_train_br)\n",
    "predicted = SVM_BOW.predict(X_test_br)\n",
    "accuracy_score = metrics.accuracy_score(predicted,Y_test_br)\n",
    "print(str('{:04.2f}'.format(accuracy_score*100))+'%')"
   ]
  },
  {
   "cell_type": "markdown",
   "metadata": {
    "id": "OU0gKQlZhlzJ"
   },
   "source": [
    "### TFIDF method"
   ]
  },
  {
   "cell_type": "code",
   "execution_count": 13,
   "metadata": {
    "colab": {
     "base_uri": "https://localhost:8080/"
    },
    "executionInfo": {
     "elapsed": 4075539,
     "status": "ok",
     "timestamp": 1623300921150,
     "user": {
      "displayName": "Abhisek Sharma",
      "photoUrl": "",
      "userId": "01291971815176337637"
     },
     "user_tz": -330
    },
    "id": "PRwESonehpk7",
    "outputId": "768ca0d5-d1b1-4a3a-fa8d-08a122e663c6"
   },
   "outputs": [
    {
     "data": {
      "text/plain": [
       "SVC(random_state=0)"
      ]
     },
     "execution_count": 13,
     "metadata": {},
     "output_type": "execute_result"
    }
   ],
   "source": [
    "SVM_tfidf = SVC(random_state=0)\n",
    "SVM_tfidf.fit(X_train_tfidf, Y_train_tfidf)"
   ]
  },
  {
   "cell_type": "code",
   "execution_count": 14,
   "metadata": {
    "colab": {
     "base_uri": "https://localhost:8080/"
    },
    "executionInfo": {
     "elapsed": 391229,
     "status": "ok",
     "timestamp": 1623302200708,
     "user": {
      "displayName": "Abhisek Sharma",
      "photoUrl": "",
      "userId": "01291971815176337637"
     },
     "user_tz": -330
    },
    "id": "5e9kaEM2P_Ap",
    "outputId": "7280498b-0ac6-4416-8865-da049577d254"
   },
   "outputs": [
    {
     "name": "stdout",
     "output_type": "stream",
     "text": [
      "90.84%\n"
     ]
    }
   ],
   "source": [
    "predicted = SVM_tfidf.predict(X_test_tfidf)\n",
    "accuracy_score = metrics.accuracy_score(predicted,Y_test_tfidf)\n",
    "print(str('{:04.2f}'.format(accuracy_score*100))+'%')"
   ]
  },
  {
   "cell_type": "code",
   "execution_count": 5,
   "metadata": {
    "id": "I-raQAC1RM4a"
   },
   "outputs": [
    {
     "name": "stdout",
     "output_type": "stream",
     "text": [
      "91.26%\n"
     ]
    }
   ],
   "source": [
    "SVM_TFIDF = SVC(C=10)\n",
    "SVM_TFIDF.fit(X_train_tfidf,Y_train_tfidf)\n",
    "predicted = SVM_TFIDF.predict(X_test_tfidf)\n",
    "accuracy_score = metrics.accuracy_score(predicted,Y_test_tfidf)\n",
    "print(str('{:04.2f}'.format(accuracy_score*100))+'%')"
   ]
  }
 ],
 "metadata": {
  "colab": {
   "collapsed_sections": [],
   "name": "AML_IA_final_code.ipynb",
   "provenance": []
  },
  "kernelspec": {
   "display_name": "Python 3",
   "language": "python",
   "name": "python3"
  },
  "language_info": {
   "codemirror_mode": {
    "name": "ipython",
    "version": 3
   },
   "file_extension": ".py",
   "mimetype": "text/x-python",
   "name": "python",
   "nbconvert_exporter": "python",
   "pygments_lexer": "ipython3",
   "version": "3.8.3"
  }
 },
 "nbformat": 4,
 "nbformat_minor": 1
}
