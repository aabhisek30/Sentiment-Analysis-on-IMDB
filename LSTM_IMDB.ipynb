{
 "cells": [
  {
   "cell_type": "markdown",
   "metadata": {},
   "source": [
    "## Importing all the libaries"
   ]
  },
  {
   "cell_type": "code",
   "execution_count": null,
   "metadata": {},
   "outputs": [],
   "source": [
    "import pandas as pd\n",
    "from keras.models import Sequential\n",
    "from keras.layers import Dense\n",
    "from keras.layers import LSTM\n",
    "from keras.layers.embeddings import Embedding\n",
    "from keras.layers import BatchNormalization\n",
    "from keras.optimizers import Adam\n",
    "from tensorflow.keras.layers import Dropout\n",
    "import matplotlib.pyplot as plt\n",
    "from keras.callbacks import EarlyStopping\n",
    "from keras.preprocessing.text import Tokenizer"
   ]
  },
  {
   "cell_type": "markdown",
   "metadata": {},
   "source": [
    "## Reading  data"
   ]
  },
  {
   "cell_type": "code",
   "execution_count": null,
   "metadata": {
    "colab": {
     "base_uri": "https://localhost:8080/"
    },
    "id": "D6q2gdbAh5yJ",
    "outputId": "4fcf4aa4-e490-4ed5-8dfe-d7e5c6609f4a"
   },
   "outputs": [
    {
     "name": "stdout",
     "output_type": "stream",
     "text": [
      "                                                  review sentiment\n",
      "0      One of the other reviewers has mentioned that ...  positive\n",
      "1      A wonderful little production. <br /><br />The...  positive\n",
      "2      I thought this was a wonderful way to spend ti...  positive\n",
      "3      Basically there's a family where a little boy ...  negative\n",
      "4      Petter Mattei's \"Love in the Time of Money\" is...  positive\n",
      "...                                                  ...       ...\n",
      "49995  I thought this movie did a down right good job...  positive\n",
      "49996  Bad plot, bad dialogue, bad acting, idiotic di...  negative\n",
      "49997  I am a Catholic taught in parochial elementary...  negative\n",
      "49998  I'm going to have to disagree with the previou...  negative\n",
      "49999  No one expects the Star Trek movies to be high...  negative\n",
      "\n",
      "[50000 rows x 2 columns]\n"
     ]
    }
   ],
   "source": [
    "dataset = pd.read_csv(\"preprocessed_dataset.csv\")\n",
    "print(dataset)"
   ]
  },
  {
   "cell_type": "markdown",
   "metadata": {},
   "source": [
    "## Data preperation"
   ]
  },
  {
   "cell_type": "code",
   "execution_count": null,
   "metadata": {
    "id": "JqBJVKZhlITC"
   },
   "outputs": [],
   "source": [
    "X = pd.Series(dataset[\"review\"])\n",
    "y = dataset[\"sentiment\"].replace({\"positive\":0,\"negative\":1})"
   ]
  },
  {
   "cell_type": "code",
   "execution_count": null,
   "metadata": {
    "id": "DcpDLTumsIMH"
   },
   "outputs": [],
   "source": [
    "from sklearn.model_selection import train_test_split\n",
    "X_train, X_test, y_train, y_test = train_test_split(X,y, test_size=0.10)\n",
    "X_train, X_valid, y_train, y_valid = train_test_split(X_train,y_train,test_size=0.2)"
   ]
  },
  {
   "cell_type": "code",
   "execution_count": null,
   "metadata": {
    "colab": {
     "base_uri": "https://localhost:8080/"
    },
    "id": "_f3eQmZyrneY",
    "outputId": "ee6c8bc2-042c-4461-9afe-6f0b86756052"
   },
   "outputs": [
    {
     "name": "stdout",
     "output_type": "stream",
     "text": [
      "The number of samples in X_train (36000,)\n",
      "The number of samples in X_test (5000,)\n",
      "The number of samples in X_valid (9000,)\n",
      "The number of samples in y_train (36000,)\n",
      "The number of samples in y_test (5000,)\n",
      "The number of samples in y_valid (9000,)\n"
     ]
    }
   ],
   "source": [
    "print(\"The number of samples in X_train\",X_train.shape)\n",
    "print(\"The number of samples in X_test\",X_test.shape)\n",
    "print(\"The number of samples in X_valid\",X_valid.shape)\n",
    "print(\"The number of samples in y_train\",y_train.shape)\n",
    "print(\"The number of samples in y_test\",y_test.shape)\n",
    "print(\"The number of samples in y_valid\",y_valid.shape)"
   ]
  },
  {
   "cell_type": "markdown",
   "metadata": {},
   "source": [
    "## Tokenizer creates a unique id for each word"
   ]
  },
  {
   "cell_type": "code",
   "execution_count": null,
   "metadata": {
    "id": "WjwsFEoVxgWh"
   },
   "outputs": [],
   "source": [
    "vocab_size = 1000\n",
    "tokenizer = Tokenizer(num_words = vocab_size, oov_token=\"<OOV>\")\n",
    "tokenizer.fit_on_texts(X_train)"
   ]
  },
  {
   "cell_type": "markdown",
   "metadata": {},
   "source": [
    "## texts_to_sequences() converts word to unqiue id"
   ]
  },
  {
   "cell_type": "code",
   "execution_count": null,
   "metadata": {
    "id": "qUWFVe_cyCYO"
   },
   "outputs": [],
   "source": [
    "X_train = tokenizer.texts_to_sequences(X_train)\n",
    "X_valid = tokenizer.texts_to_sequences(X_valid)\n",
    "X_test = tokenizer.texts_to_sequences(X_test)"
   ]
  },
  {
   "cell_type": "markdown",
   "metadata": {},
   "source": [
    "## Setting maxlen sequence to average of lengths of all sequences"
   ]
  },
  {
   "cell_type": "code",
   "execution_count": null,
   "metadata": {
    "id": "yOfXMiBxshgf"
   },
   "outputs": [],
   "source": [
    "lengths = [len(i) for i in X_train]\n",
    "maxlen = int(sum(lengths)/len(lengths))"
   ]
  },
  {
   "cell_type": "markdown",
   "metadata": {},
   "source": [
    "## It pads if length is less than maxlen else truncate sequence"
   ]
  },
  {
   "cell_type": "code",
   "execution_count": null,
   "metadata": {
    "id": "DFtBpjbyscUJ"
   },
   "outputs": [],
   "source": [
    "from keras.preprocessing import sequence\n",
    "X_train = sequence.pad_sequences(X_train, maxlen=maxlen)\n",
    "X_valid = sequence.pad_sequences(X_valid, maxlen=maxlen)\n",
    "X_test = sequence.pad_sequences(X_test, maxlen=maxlen)"
   ]
  },
  {
   "cell_type": "code",
   "execution_count": null,
   "metadata": {
    "colab": {
     "base_uri": "https://localhost:8080/"
    },
    "id": "UZIgcN0Ps_k_",
    "outputId": "e30ba741-6959-43a8-f7f3-55fd06d67af8"
   },
   "outputs": [
    {
     "data": {
      "text/plain": [
       "array([  0,   0,   0,   0,   0,   0,   0,   0,   0,   0,   0,   0,   0,\n",
       "         0,   0,   0,   0,   0,   0,   0,   0,   0,   0,   0,   0,   0,\n",
       "         0,   0,   0,   0,   0,   0,   0,   0,   0,   0,   0,   0,   0,\n",
       "         0,   0,   0,   0,   0,   0,   0,   0,   0,   0,   0,   0,   0,\n",
       "         0,   0,   0,   0,   0,   0,   0,   0,   0,   0,   0,   0,   0,\n",
       "         0,   0,   0,   0,   0,   0,   0,   0,   0,   0,   0,   0,   0,\n",
       "         0,   0,   0,   0,   0,   0,   0,   0,   0,   0,   0,   0,   0,\n",
       "         0,   0,   0,   0,   0,   0,   0,   0,   0,   0,   0,   0,   0,\n",
       "         0,   0,   0,   0,   0,   0,   0,   0,   0,   0,   0,   0,   0,\n",
       "         0,   0,   0,   0,   0,   0,   0,   0,   0,   0,   0,   0,   0,\n",
       "         0,  18,   5, 319,   4,   5,   1,   6,   1,  44,  21,  23,   5,\n",
       "       311,   6, 959,  97,  18,  58, 999, 147,   1,   5, 642,  66, 652,\n",
       "       275,   4,   1, 333, 155,  11,  20,   1,  30, 394,  28,   1,  21,\n",
       "        78, 227,  95,   5, 718,  16,  18,   5, 359,   6, 347,   9, 125,\n",
       "         1,   4,   5, 330,   1,   2,  20,   3,  50,  17,  49, 906, 152,\n",
       "       104,   8,  18,  49, 347,   4,   1,  87,  13,   7,  95,   5,  17,\n",
       "         1, 192, 134,   2, 564,  42,  21,  24,   7, 858, 389,  10,  24,\n",
       "       108, 747,  18, 329, 389,   4, 473,  11,   3,  40,   5, 859,   1],\n",
       "      dtype=int32)"
      ]
     },
     "execution_count": 22,
     "metadata": {
      "tags": []
     },
     "output_type": "execute_result"
    }
   ],
   "source": [
    "X_train[0]"
   ]
  },
  {
   "cell_type": "markdown",
   "metadata": {},
   "source": [
    "# Model 1 "
   ]
  },
  {
   "cell_type": "code",
   "execution_count": null,
   "metadata": {
    "colab": {
     "base_uri": "https://localhost:8080/"
    },
    "id": "dd3WetHY0OC1",
    "outputId": "ad8707f1-6377-41cc-f8c6-f2585c42bddd"
   },
   "outputs": [
    {
     "name": "stdout",
     "output_type": "stream",
     "text": [
      "Model: \"sequential\"\n",
      "_________________________________________________________________\n",
      "Layer (type)                 Output Shape              Param #   \n",
      "=================================================================\n",
      "embedding (Embedding)        (None, 234, 32)           32032     \n",
      "_________________________________________________________________\n",
      "module_wrapper (ModuleWrappe (None, 234, 32)           0         \n",
      "_________________________________________________________________\n",
      "lstm (LSTM)                  (None, 100)               53200     \n",
      "_________________________________________________________________\n",
      "module_wrapper_1 (ModuleWrap (None, 100)               0         \n",
      "_________________________________________________________________\n",
      "dense (Dense)                (None, 1)                 101       \n",
      "=================================================================\n",
      "Total params: 85,333\n",
      "Trainable params: 85,333\n",
      "Non-trainable params: 0\n",
      "_________________________________________________________________\n",
      "None\n"
     ]
    }
   ],
   "source": [
    "embedding_vecor_length = 32\n",
    "model = Sequential()\n",
    "model.add(Embedding(vocab_size+1, embedding_vecor_length, input_length=maxlen))\n",
    "model.add(Dropout(0.2))\n",
    "model.add(LSTM(100))\n",
    "#model.add(BatchNormalization())\n",
    "model.add(Dropout(0.2))\n",
    "model.add(Dense(1, activation='sigmoid'))\n",
    "opt = Adam(learning_rate=0.01)\n",
    "model.compile(loss='binary_crossentropy', optimizer=opt, metrics=['accuracy'])\n",
    "print(model.summary())"
   ]
  },
  {
   "cell_type": "code",
   "execution_count": null,
   "metadata": {
    "id": "vnYwD7ay-4GU"
   },
   "outputs": [],
   "source": [
    "def plot(history):\n",
    "  plt.figure(0)\n",
    "  plt.plot(history.history['accuracy'], label='training accuracy')\n",
    "  plt.plot(history.history['val_accuracy'], label='val accuracy')\n",
    "  plt.title('Accuracy')\n",
    "  plt.xlabel('epochs')\n",
    "  plt.ylabel('accuracy')\n",
    "  plt.legend()\n",
    "  plt.show()\n",
    "\n",
    "  plt.figure(1)\n",
    "  plt.plot(history.history['loss'], label='training loss')  \n",
    "  plt.plot(history.history['val_loss'], label='val loss')\n",
    "  plt.title('Loss')\n",
    "  plt.xlabel('epochs')\n",
    "  plt.ylabel('loss')\n",
    "  plt.legend()\n",
    "  plt.show()"
   ]
  },
  {
   "cell_type": "code",
   "execution_count": null,
   "metadata": {
    "colab": {
     "base_uri": "https://localhost:8080/"
    },
    "id": "2PBV6JIT0Tk-",
    "outputId": "ea3157d5-5aa2-4c30-d58e-313c43f27cef"
   },
   "outputs": [
    {
     "name": "stdout",
     "output_type": "stream",
     "text": [
      "Epoch 1/25\n",
      "563/563 [==============================] - 32s 20ms/step - loss: 0.6116 - accuracy: 0.6512 - val_loss: 0.3376 - val_accuracy: 0.8572\n",
      "Epoch 2/25\n",
      "563/563 [==============================] - 10s 17ms/step - loss: 0.3394 - accuracy: 0.8565 - val_loss: 0.3273 - val_accuracy: 0.8667\n",
      "Epoch 3/25\n",
      "563/563 [==============================] - 10s 17ms/step - loss: 0.3000 - accuracy: 0.8786 - val_loss: 0.2989 - val_accuracy: 0.8746\n",
      "Epoch 4/25\n",
      "563/563 [==============================] - 10s 17ms/step - loss: 0.2885 - accuracy: 0.8799 - val_loss: 0.3056 - val_accuracy: 0.8739\n",
      "Epoch 5/25\n",
      "563/563 [==============================] - 10s 17ms/step - loss: 0.2742 - accuracy: 0.8852 - val_loss: 0.3115 - val_accuracy: 0.8698\n",
      "Epoch 6/25\n",
      "563/563 [==============================] - 10s 17ms/step - loss: 0.2608 - accuracy: 0.8928 - val_loss: 0.3031 - val_accuracy: 0.8750\n",
      "Epoch 7/25\n",
      "563/563 [==============================] - 10s 17ms/step - loss: 0.2550 - accuracy: 0.8945 - val_loss: 0.3174 - val_accuracy: 0.8707\n",
      "Epoch 8/25\n",
      "563/563 [==============================] - 10s 17ms/step - loss: 0.2513 - accuracy: 0.8961 - val_loss: 0.3172 - val_accuracy: 0.8693\n",
      "Epoch 9/25\n",
      "563/563 [==============================] - 10s 17ms/step - loss: 0.2455 - accuracy: 0.8980 - val_loss: 0.3259 - val_accuracy: 0.8676\n",
      "Epoch 10/25\n",
      "563/563 [==============================] - 10s 17ms/step - loss: 0.2410 - accuracy: 0.9002 - val_loss: 0.3348 - val_accuracy: 0.8636\n",
      "Epoch 11/25\n",
      "563/563 [==============================] - 10s 17ms/step - loss: 0.2402 - accuracy: 0.9011 - val_loss: 0.3143 - val_accuracy: 0.8727\n",
      "Epoch 12/25\n",
      "563/563 [==============================] - 10s 17ms/step - loss: 0.2376 - accuracy: 0.9010 - val_loss: 0.3117 - val_accuracy: 0.8767\n",
      "Epoch 13/25\n",
      "563/563 [==============================] - 10s 17ms/step - loss: 0.2343 - accuracy: 0.9035 - val_loss: 0.3214 - val_accuracy: 0.8732\n",
      "Epoch 14/25\n",
      "563/563 [==============================] - 10s 17ms/step - loss: 0.2380 - accuracy: 0.9030 - val_loss: 0.3297 - val_accuracy: 0.8721\n",
      "Epoch 15/25\n",
      "563/563 [==============================] - 10s 17ms/step - loss: 0.2385 - accuracy: 0.9000 - val_loss: 0.3252 - val_accuracy: 0.8701\n",
      "Epoch 16/25\n",
      "563/563 [==============================] - 10s 17ms/step - loss: 0.2358 - accuracy: 0.9020 - val_loss: 0.3241 - val_accuracy: 0.8729\n",
      "Epoch 17/25\n",
      "563/563 [==============================] - 10s 17ms/step - loss: 0.2399 - accuracy: 0.9030 - val_loss: 0.3134 - val_accuracy: 0.8699\n",
      "Epoch 18/25\n",
      "563/563 [==============================] - 10s 17ms/step - loss: 0.2391 - accuracy: 0.9014 - val_loss: 0.3218 - val_accuracy: 0.8698\n",
      "Epoch 19/25\n",
      "563/563 [==============================] - 10s 17ms/step - loss: 0.2362 - accuracy: 0.9005 - val_loss: 0.3251 - val_accuracy: 0.8606\n",
      "Epoch 20/25\n",
      "563/563 [==============================] - 10s 17ms/step - loss: 0.2397 - accuracy: 0.9000 - val_loss: 0.3179 - val_accuracy: 0.8721\n",
      "Epoch 21/25\n",
      "563/563 [==============================] - 10s 17ms/step - loss: 0.2356 - accuracy: 0.9031 - val_loss: 0.3314 - val_accuracy: 0.8709\n",
      "Epoch 22/25\n",
      "563/563 [==============================] - 10s 17ms/step - loss: 0.2341 - accuracy: 0.9019 - val_loss: 0.3141 - val_accuracy: 0.8710\n",
      "Epoch 23/25\n",
      "563/563 [==============================] - 10s 18ms/step - loss: 0.2543 - accuracy: 0.8971 - val_loss: 0.3174 - val_accuracy: 0.8720\n",
      "Epoch 24/25\n",
      "563/563 [==============================] - 10s 18ms/step - loss: 0.2463 - accuracy: 0.9001 - val_loss: 0.3204 - val_accuracy: 0.8662\n",
      "Epoch 25/25\n",
      "563/563 [==============================] - 10s 18ms/step - loss: 0.2556 - accuracy: 0.8928 - val_loss: 0.3323 - val_accuracy: 0.8676\n"
     ]
    }
   ],
   "source": [
    "history = model.fit(X_train, y_train, batch_size=64,epochs=25, validation_data=(X_valid, y_valid))"
   ]
  },
  {
   "cell_type": "code",
   "execution_count": null,
   "metadata": {
    "colab": {
     "base_uri": "https://localhost:8080/"
    },
    "id": "-e__-8tRC85w",
    "outputId": "c29a02bd-b179-4090-80f7-75b84b784452"
   },
   "outputs": [
    {
     "name": "stdout",
     "output_type": "stream",
     "text": [
      "157/157 [==============================] - 1s 7ms/step - loss: 0.3557 - accuracy: 0.8596\n"
     ]
    }
   ],
   "source": [
    "score = model.evaluate(X_test, y_test)"
   ]
  },
  {
   "cell_type": "code",
   "execution_count": null,
   "metadata": {
    "colab": {
     "base_uri": "https://localhost:8080/",
     "height": 573
    },
    "id": "2wr5MJhjHpaT",
    "outputId": "c9008c7e-9046-40ca-ccd7-39e9bc694e05"
   },
   "outputs": [
    {
     "data": {
      "image/png": "[encoded data removed]",
      "text/plain": [
       "<Figure size 432x288 with 1 Axes>"
      ]
     },
     "metadata": {
      "needs_background": "light",
      "tags": []
     },
     "output_type": "display_data"
    },
    {
     "data": {
      "image/png": "[encoded data removed]",
      "text/plain": [
       "<Figure size 432x288 with 1 Axes>"
      ]
     },
     "metadata": {
      "needs_background": "light",
      "tags": []
     },
     "output_type": "display_data"
    }
   ],
   "source": [
    "plot(history)"
   ]
  },
  {
   "cell_type": "markdown",
   "metadata": {},
   "source": [
    "Model overfits clearly"
   ]
  },
  {
   "cell_type": "markdown",
   "metadata": {
    "id": "B21viZMIDto1"
   },
   "source": [
    "# Model 2"
   ]
  },
  {
   "cell_type": "code",
   "execution_count": null,
   "metadata": {
    "id": "Sa42CjURDxVJ"
   },
   "outputs": [],
   "source": [
    "es = EarlyStopping(monitor='val_loss', mode='min', verbose=1,patience=3,restore_best_weights=True)"
   ]
  },
  {
   "cell_type": "code",
   "execution_count": null,
   "metadata": {
    "colab": {
     "base_uri": "https://localhost:8080/"
    },
    "id": "_1NbFqbbGnMU",
    "outputId": "77e8bb81-bc76-417f-d4bb-b236fb994dbd"
   },
   "outputs": [
    {
     "name": "stdout",
     "output_type": "stream",
     "text": [
      "Model: \"sequential_1\"\n",
      "_________________________________________________________________\n",
      "Layer (type)                 Output Shape              Param #   \n",
      "=================================================================\n",
      "embedding_1 (Embedding)      (None, 234, 32)           32032     \n",
      "_________________________________________________________________\n",
      "module_wrapper_2 (ModuleWrap (None, 234, 32)           0         \n",
      "_________________________________________________________________\n",
      "lstm_1 (LSTM)                (None, 80)                36160     \n",
      "_________________________________________________________________\n",
      "module_wrapper_3 (ModuleWrap (None, 80)                0         \n",
      "_________________________________________________________________\n",
      "dense_1 (Dense)              (None, 1)                 81        \n",
      "=================================================================\n",
      "Total params: 68,273\n",
      "Trainable params: 68,273\n",
      "Non-trainable params: 0\n",
      "_________________________________________________________________\n",
      "None\n"
     ]
    }
   ],
   "source": [
    "embedding_vecor_length = 32\n",
    "model_1 = Sequential()\n",
    "model_1.add(Embedding(vocab_size+1, embedding_vecor_length, input_length=maxlen))\n",
    "model_1.add(Dropout(0.2))\n",
    "model_1.add(LSTM(80))\n",
    "#model.add(BatchNormalization())\n",
    "model_1.add(Dropout(0.2))\n",
    "model_1.add(Dense(1, activation='sigmoid'))\n",
    "opt = Adam(learning_rate=0.01)\n",
    "model_1.compile(loss='binary_crossentropy', optimizer=opt, metrics=['accuracy'])\n",
    "print(model_1.summary())"
   ]
  },
  {
   "cell_type": "code",
   "execution_count": null,
   "metadata": {
    "colab": {
     "base_uri": "https://localhost:8080/"
    },
    "id": "lE5WUDhaI56U",
    "outputId": "dbb00a1d-cde1-4a34-e05f-84bd0900baba"
   },
   "outputs": [
    {
     "name": "stdout",
     "output_type": "stream",
     "text": [
      "Restoring model weights from the end of the best epoch.\n",
      "Epoch 00004: early stopping\n"
     ]
    }
   ],
   "source": [
    "history = model_1.fit(X_train, y_train, validation_data=(X_valid,y_valid), epochs=25,batch_size=64, verbose=0, callbacks=[es])"
   ]
  },
  {
   "cell_type": "code",
   "execution_count": null,
   "metadata": {
    "colab": {
     "base_uri": "https://localhost:8080/"
    },
    "id": "NUHcageeVqTw",
    "outputId": "c38a25bc-0a56-4414-c1d8-d7a413f12e9f"
   },
   "outputs": [
    {
     "name": "stdout",
     "output_type": "stream",
     "text": [
      "The number of epoch model run 4\n"
     ]
    }
   ],
   "source": [
    "print(\"The number of epoch model run\",len(history.history[\"loss\"]))"
   ]
  },
  {
   "cell_type": "code",
   "execution_count": null,
   "metadata": {
    "colab": {
     "base_uri": "https://localhost:8080/",
     "height": 573
    },
    "id": "d7GBAyPnH5bz",
    "outputId": "2315a2ab-19a2-4d32-d2ad-d860edeb4f87"
   },
   "outputs": [
    {
     "data": {
      "image/png": "[encoded data removed]",
      "text/plain": [
       "<Figure size 432x288 with 1 Axes>"
      ]
     },
     "metadata": {
      "needs_background": "light",
      "tags": []
     },
     "output_type": "display_data"
    },
    {
     "data": {
      "image/png": "[encoded data removed]",
      "text/plain": [
       "<Figure size 432x288 with 1 Axes>"
      ]
     },
     "metadata": {
      "needs_background": "light",
      "tags": []
     },
     "output_type": "display_data"
    }
   ],
   "source": [
    "plot(history)"
   ]
  },
  {
   "cell_type": "code",
   "execution_count": null,
   "metadata": {
    "colab": {
     "base_uri": "https://localhost:8080/"
    },
    "id": "9Umm9tpPItbJ",
    "outputId": "f58d54a9-b3d9-4602-b620-c2cfdb75d787"
   },
   "outputs": [
    {
     "name": "stdout",
     "output_type": "stream",
     "text": [
      "157/157 [==============================] - 1s 7ms/step - loss: 0.3229 - accuracy: 0.8646\n"
     ]
    }
   ],
   "source": [
    "score = model_1.evaluate(X_test, y_test)"
   ]
  }
 ],
 "metadata": {
  "accelerator": "GPU",
  "colab": {
   "name": "LSTM_IMDB.ipynb",
   "provenance": []
  },
  "kernelspec": {
   "display_name": "Python 3",
   "language": "python",
   "name": "python3"
  },
  "language_info": {
   "codemirror_mode": {
    "name": "ipython",
    "version": 3
   },
   "file_extension": ".py",
   "mimetype": "text/x-python",
   "name": "python",
   "nbconvert_exporter": "python",
   "pygments_lexer": "ipython3",
   "version": "3.8.3"
  }
 },
 "nbformat": 4,
 "nbformat_minor": 1
}
